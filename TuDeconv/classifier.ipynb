{
 "cells": [
  {
   "cell_type": "code",
   "execution_count": 1,
   "metadata": {},
   "outputs": [],
   "source": [
    "# Lets start with the imports.\n",
    "import numpy as np\n",
    "import pandas as pd\n",
    "from PIL import Image\n",
    "import matplotlib.pyplot as plt\n",
    "import torch\n",
    "import torch.nn as nn\n",
    "from torch.autograd import Variable\n",
    "import torch.utils.data as data"
   ]
  },
  {
   "cell_type": "code",
   "execution_count": 2,
   "metadata": {},
   "outputs": [],
   "source": [
    "# First we create the point that we are going to use for the classifier.\n",
    "# We create n_points points for four classes of points center at [0,0], \n",
    "# [0,2], [2,0] and [2,2] with a deviation from the center that follows a\n",
    "# Gaussian distribution with a standar deviation of sigma.\n",
    "\n",
    "n_points = 20000\n",
    "points = np.zeros((n_points,2))   # x, y\n",
    "target = np.zeros((n_points,1))   # label\n",
    "sigma = 0.5\n",
    "for k in range(n_points):\n",
    "    # Random selection of one class with 25% of probability per class.\n",
    "    random = np.random.rand()\n",
    "    if random<0.25:\n",
    "        center = np.array([0,0])\n",
    "        target[k,0] = 0   # This points are labeled 0.\n",
    "    elif random<0.5:\n",
    "        center = np.array([2,2])\n",
    "        target[k,0] = 1   # This points are labeled 1.\n",
    "    elif random<0.75:\n",
    "        center = np.array([2,0])\n",
    "        target[k,0] = 2   # This points are labeled 2.\n",
    "    else:\n",
    "        center = np.array([0,2])\n",
    "        target[k,0] = 3   # This points are labeled 3.\n",
    "    gaussian01_2d = np.random.randn(1,2)\n",
    "    points[k,:] = center + sigma*gaussian01_2d\n",
    "\n",
    "# Now, we write all the points in a file.\n",
    "points_and_labels = np.concatenate((points,target),axis=1)   # 1st, 2nd, 3nd column --> x,y, label\n",
    "pd.DataFrame(points_and_labels).to_csv('clas.csv',index=False)"
   ]
  },
  {
   "cell_type": "code",
   "execution_count": null,
   "metadata": {},
   "outputs": [],
   "source": [
    "# Here, we start properly the classifier.\n",
    "\n",
    "# We read the dataset and create an iterable.\n",
    "class my_points(data.Dataset):\n",
    "    def __init__(self, filename):\n",
    "        pd_data = pd.read_csv(filename).values   # Read data file.\n",
    "        self.data = pd_data[:,0:2]   # 1st and 2nd columns --> x,y\n",
    "        self.target = pd_data[:,2:]  # 3nd column --> label\n",
    "        self.n_samples = self.data.shape[0]\n",
    "    \n",
    "    def __len__(self):   # Length of the dataset.\n",
    "        return self.n_samples\n",
    "    \n",
    "    def __getitem__(self, index):   # Function that returns one point and one label.\n",
    "        return torch.Tensor(self.data[index]), torch.Tensor(self.target[index])"
   ]
  },
  {
   "cell_type": "code",
   "execution_count": null,
   "metadata": {},
   "outputs": [],
   "source": [
    "# We create the dataloader.\n",
    "my_data = my_points('clas.csv')\n",
    "batch_size = 200\n",
    "my_loader = data.DataLoader(my_data,batch_size=batch_size,num_workers=0)"
   ]
  },
  {
   "cell_type": "code",
   "execution_count": null,
   "metadata": {},
   "outputs": [],
   "source": [
    "# We build a simple model with the inputs and one output layer.\n",
    "class my_model(nn.Module):\n",
    "    def __init__(self,n_in=2,n_hidden=10,n_out=4):\n",
    "        super(my_model,self).__init__()\n",
    "        self.n_in  = n_in\n",
    "        self.n_out = n_out\n",
    "         \n",
    "        self.linearlinear = nn.Sequential(\n",
    "            nn.Linear(self.n_in,self.n_out,bias=True),   # Hidden layer.\n",
    "            )\n",
    "        self.logprob = nn.LogSoftmax(dim=1)                 # -Log(Softmax probability).\n",
    "    \n",
    "    def forward(self,x):\n",
    "        x = self.linearlinear(x)\n",
    "        x = self.logprob(x)\n",
    "        return x"
   ]
  },
  {
   "cell_type": "code",
   "execution_count": null,
   "metadata": {},
   "outputs": [],
   "source": [
    "# Now, we create the mode, the loss function or criterium and the optimizer \n",
    "# that we are going to use to minimize the loss.\n",
    "\n",
    "# Model.\n",
    "model = my_model()\n",
    "\n",
    "# Negative log likelihood loss.\n",
    "criterium = nn.NLLLoss()\n",
    "\n",
    "# Adam optimizer with learning rate 0.1 and L2 regularization with weight 1e-4.\n",
    "optimizer = torch.optim.Adam(model.parameters(),lr=0.1,weight_decay=1e-4)"
   ]
  },
  {
   "cell_type": "code",
   "execution_count": null,
   "metadata": {},
   "outputs": [],
   "source": [
    "# Taining.\n",
    "for k, (data, target) in enumerate(my_loader):\n",
    "    # Definition of inputs as variables for the net.\n",
    "    # requires_grad is set False because we do not need to compute the \n",
    "    # derivative of the inputs.\n",
    "    data   = Variable(data,requires_grad=False)\n",
    "    target = Variable(target.long(),requires_grad=False)\n",
    "    \n",
    "    # Set gradient to 0.\n",
    "    optimizer.zero_grad()\n",
    "    # Feed forward.\n",
    "    pred = model(data)\n",
    "    # Loss calculation.\n",
    "    loss = criterium(pred,target.view(-1))\n",
    "    # Gradient calculation.\n",
    "    loss.backward()\n",
    "    \n",
    "    # Print loss every 10 iterations.\n",
    "    if k%10==0:\n",
    "        print('Loss {:.4f} at iter {:d}'.format(loss.item(),k))\n",
    "        \n",
    "    # Model weight modification based on the optimizer. \n",
    "    optimizer.step()"
   ]
  },
  {
   "cell_type": "code",
   "execution_count": null,
   "metadata": {},
   "outputs": [],
   "source": [
    "# Now, we plot the results.\n",
    "# Circles indicate the ground truth and the squares are the predictions.\n",
    "\n",
    "colors = ['r','b','g','y']\n",
    "points = data.numpy()\n",
    "\n",
    "# Ground truth.\n",
    "target = target.numpy()\n",
    "for k in range(4):\n",
    "    select = target[:,0]==k\n",
    "    p = points[select,:]\n",
    "    plt.scatter(p[:,0],p[:,1],facecolors=colors[k])\n",
    "\n",
    "# Predictions.\n",
    "pred = pred.exp().detach()     # exp of the log prob = probability.\n",
    "_, index = torch.max(pred,1)   # index of the class with maximum probability.\n",
    "pred = pred.numpy()\n",
    "index = index.numpy()\n",
    "for k in range(4):\n",
    "    select = index==k\n",
    "    p = points[select,:]\n",
    "    plt.scatter(p[:,0],p[:,1],s=60,marker='s',edgecolors=colors[k],facecolors='none')\n",
    "\n",
    "plt.show()"
   ]
  }
 ],
 "metadata": {
  "kernelspec": {
   "display_name": "Python 3",
   "language": "python",
   "name": "python3"
  },
  "language_info": {
   "codemirror_mode": {
    "name": "ipython",
    "version": 3
   },
   "file_extension": ".py",
   "mimetype": "text/x-python",
   "name": "python",
   "nbconvert_exporter": "python",
   "pygments_lexer": "ipython3",
   "version": "3.6.8"
  }
 },
 "nbformat": 4,
 "nbformat_minor": 2
}
